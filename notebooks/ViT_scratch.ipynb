{
 "cells": [
  {
   "cell_type": "code",
   "execution_count": 1,
   "metadata": {},
   "outputs": [],
   "source": [
    "import torch\n",
    "import torch.nn as nn\n",
    "from einops import rearrange, repeat"
   ]
  },
  {
   "cell_type": "code",
   "execution_count": null,
   "metadata": {},
   "outputs": [],
   "source": []
  },
  {
   "cell_type": "code",
   "execution_count": null,
   "metadata": {},
   "outputs": [],
   "source": []
  },
  {
   "cell_type": "markdown",
   "metadata": {},
   "source": [
    "### Patch Embedding\n",
    "It has three components:\n",
    "- Convert the image into sequence of patches\n",
    "- Add CLS token to sequence of patches\n",
    "- Add positional encoding to all the patches. "
   ]
  },
  {
   "cell_type": "code",
   "execution_count": 36,
   "metadata": {},
   "outputs": [],
   "source": [
    "class PatchEmbedding(nn.Module):\n",
    "    def __init__(self, config):\n",
    "        super().__init__()\n",
    "        image_height = config[\"image_height\"]\n",
    "        image_width = config[\"image_width\"]\n",
    "        im_channels = config[\"im_channels\"]\n",
    "        emb_dim = config[\"emb_dim\"] # Transformer dimentions(D)\n",
    "        patch_embd_dropout = config[\"patch_emb_dropout\"]\n",
    "\n",
    "        self.patch_height = config[\"patch_height\"]\n",
    "        self.patch_width = config[\"patch_width\"]\n",
    "\n",
    "        num_patches = (image_height // self.patch_height) * (image_width // self.patch_width)\n",
    "\n",
    "        patch_dim = im_channels * self.patch_height * self.patch_width    \n",
    "        \n",
    "        # W belongs to R^(patch_dim x emb_dim)\n",
    "        self.patch_emb = nn.Sequential(\n",
    "            nn.LayerNorm(patch_dim),           \n",
    "            nn.Linear(patch_dim, emb_dim),\n",
    "            nn.LayerNorm(emb_dim),\n",
    "        )\n",
    "        \n",
    "        # Positional information needs to be added to cls as well so 1+num_patches\n",
    "        self.pos_emb = nn.Parameter(torch.randn(1, num_patches + 1, emb_dim))\n",
    "        self.cls_token = nn.Parameter(torch.randn(emb_dim))    # CLS token belongs to R^emb_dim\n",
    "        self.patch_emb_dropout = nn.Dropout(patch_embd_dropout)\n",
    "\n",
    "    def forward(self, x):\n",
    "        batch_size = x.shape[0]\n",
    "\n",
    "        out  = rearrange(x, 'b c (h p1) (w p2) -> b (h w) (p1 p2 c)', p1=self.patch_height, p2=self.patch_width)  # split image into patches\n",
    "        print(out.shape)\n",
    "\n",
    "        out = self.patch_emb(out)\n",
    "        cls_token = repeat(self.cls_token, 'd -> b n d', b=batch_size, n=1)\n",
    "        out = torch.cat([cls_token, out], dim=1)\n",
    "        out += self.pos_emb\n",
    "        out = self.patch_emb_dropout(out)\n",
    "\n",
    "        return out\n"
   ]
  },
  {
   "cell_type": "code",
   "execution_count": null,
   "metadata": {},
   "outputs": [],
   "source": []
  },
  {
   "cell_type": "code",
   "execution_count": null,
   "metadata": {},
   "outputs": [],
   "source": []
  },
  {
   "cell_type": "code",
   "execution_count": null,
   "metadata": {},
   "outputs": [],
   "source": []
  },
  {
   "cell_type": "code",
   "execution_count": null,
   "metadata": {},
   "outputs": [],
   "source": []
  }
 ],
 "metadata": {
  "kernelspec": {
   "display_name": "fedl",
   "language": "python",
   "name": "python3"
  },
  "language_info": {
   "codemirror_mode": {
    "name": "ipython",
    "version": 3
   },
   "file_extension": ".py",
   "mimetype": "text/x-python",
   "name": "python",
   "nbconvert_exporter": "python",
   "pygments_lexer": "ipython3",
   "version": "3.11.10"
  }
 },
 "nbformat": 4,
 "nbformat_minor": 2
}

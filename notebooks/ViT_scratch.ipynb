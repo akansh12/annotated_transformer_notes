{
 "cells": [
  {
   "cell_type": "code",
   "execution_count": 1,
   "metadata": {},
   "outputs": [],
   "source": [
    "import torch\n",
    "import torch.nn as nn\n",
    "from einops import rearrange, repeat"
   ]
  },
  {
   "cell_type": "markdown",
   "metadata": {},
   "source": [
    "### Patch Embedding\n",
    "It has three components:\n",
    "- Convert the image into sequence of patches\n",
    "- Add CLS token to sequence of patches\n",
    "- Add positional encoding to all the patches. "
   ]
  },
  {
   "cell_type": "code",
   "execution_count": 19,
   "metadata": {},
   "outputs": [],
   "source": [
    "class PatchEmbedding(nn.Module):\n",
    "    def __init__(self, config):\n",
    "        super().__init__()\n",
    "        image_height = config[\"image_height\"]\n",
    "        image_width = config[\"image_width\"]\n",
    "        im_channels = config[\"im_channels\"]\n",
    "        emb_dim = config[\"emb_dim\"] # Transformer dimentions(D)\n",
    "        patch_embd_dropout = config[\"patch_emb_drop\"]\n",
    "\n",
    "        self.patch_height = config[\"patch_height\"]\n",
    "        self.patch_width = config[\"patch_width\"]\n",
    "\n",
    "        num_patches = (image_height // self.patch_height) * (image_width // self.patch_width)\n",
    "\n",
    "        patch_dim = im_channels * self.patch_height * self.patch_width    \n",
    "        \n",
    "        # W belongs to R^(patch_dim x emb_dim)\n",
    "        self.patch_emb = nn.Sequential(\n",
    "            nn.LayerNorm(patch_dim),           \n",
    "            nn.Linear(patch_dim, emb_dim),\n",
    "            nn.LayerNorm(emb_dim),\n",
    "        )\n",
    "        \n",
    "        # Positional information needs to be added to cls as well so 1+num_patches\n",
    "        self.pos_emb = nn.Parameter(torch.randn(1, num_patches + 1, emb_dim))\n",
    "        self.cls_token = nn.Parameter(torch.randn(emb_dim))    # CLS token belongs to R^emb_dim\n",
    "        self.patch_emb_dropout = nn.Dropout(patch_embd_dropout)\n",
    "\n",
    "    def forward(self, x):\n",
    "        batch_size = x.shape[0]\n",
    "\n",
    "        out  = rearrange(x, 'b c (h p1) (w p2) -> b (h w) (p1 p2 c)', p1=self.patch_height, p2=self.patch_width)  # split image into patches\n",
    "\n",
    "        out = self.patch_emb(out)\n",
    "        cls_token = repeat(self.cls_token, 'd -> b n d', b=batch_size, n=1)\n",
    "        out = torch.cat([cls_token, out], dim=1)\n",
    "        out += self.pos_emb\n",
    "        out = self.patch_emb_dropout(out)\n",
    "\n",
    "        return out\n"
   ]
  },
  {
   "cell_type": "code",
   "execution_count": 51,
   "metadata": {},
   "outputs": [
    {
     "name": "stdout",
     "output_type": "stream",
     "text": [
      "torch.Size([1, 197, 512])\n"
     ]
    }
   ],
   "source": [
    "#example run\n",
    "image = torch.randn(1, 3, 224, 224)\n",
    "config = {\n",
    "    \"image_height\": 224,\n",
    "    \"image_width\": 224,\n",
    "    \"im_channels\": 3,\n",
    "    \"emb_dim\": 512,\n",
    "    \"patch_height\": 16,\n",
    "    \"patch_width\": 16,\n",
    "    \"patch_emb_dropout\": 0.1\n",
    "}\n",
    "patch_emb = PatchEmbedding(config)\n",
    "out = patch_emb(image)\n",
    "print(out.shape)  "
   ]
  },
  {
   "cell_type": "markdown",
   "metadata": {},
   "source": [
    "### Attention Module"
   ]
  },
  {
   "cell_type": "code",
   "execution_count": 3,
   "metadata": {},
   "outputs": [],
   "source": [
    "class Attention(nn.Module):\n",
    "    def __init__(self, config):\n",
    "        super().__init__()\n",
    "        self.n_heads = config[\"n_heads\"]\n",
    "        self.head_dim = config[\"head_dim\"]   # d_h\n",
    "        self.emb_dim = config[\"emb_dim\"]\n",
    "        self.drop_prob = config[\"dropout\"] if \"dropout\" in config else 0.0\n",
    "        self.att_dim  = self.n_heads * self.head_dim\n",
    "\n",
    "        self.qkv_proj = nn.Linear(self.emb_dim, self.att_dim * 3, bias=False)\n",
    "        self.att_drop = nn.Dropout(self.drop_prob)\n",
    "\n",
    "        self.out_proj = nn.Sequential(\n",
    "            nn.Linear(self.att_dim, self.emb_dim),\n",
    "            nn.Dropout(self.drop_prob)\n",
    "        )\n",
    "\n",
    "    def forward(self, x):\n",
    "        B, N = x.shape[:2]  # B: batch size, N: number of tokens\n",
    "\n",
    "        q, k,v = self.qkv_proj(x).split(self.att_dim, dim=-1)\n",
    "        #split into heads\n",
    "        q = rearrange(q, 'b n (h d_h) -> b h n d_h', h=self.n_heads, d_h=self.head_dim) \n",
    "        k = rearrange(k, 'b n (h d_h) -> b h n d_h', h=self.n_heads, d_h=self.head_dim)\n",
    "        v = rearrange(v, 'b n (h d_h) -> b h n d_h', h=self.n_heads, d_h=self.head_dim)\n",
    "\n",
    "        #Scaled dot product attention\n",
    "\n",
    "        att = torch.matmul(q, k.transpose(-2, -1)) / (self.head_dim ** 0.5)\n",
    "        att = nn.functional.softmax(att, dim=-1)\n",
    "        att = self.att_drop(att)\n",
    "\n",
    "\n",
    "        #Weighted Value Computation\n",
    "        out = torch.matmul(att, v)\n",
    "\n",
    "        #Rearrange heads\n",
    "        out = rearrange(out, 'b h n d_h -> b n (h d_h)', h=self.n_heads, d_h=self.head_dim)\n",
    "        out = self.out_proj(out)\n",
    "\n",
    "        return out\n",
    "        "
   ]
  },
  {
   "cell_type": "code",
   "execution_count": 48,
   "metadata": {},
   "outputs": [
    {
     "name": "stdout",
     "output_type": "stream",
     "text": [
      "torch.Size([1, 197, 512])\n"
     ]
    }
   ],
   "source": [
    "#example run\n",
    "config = {\n",
    "    \"n_heads\": 8,\n",
    "    \"head_dim\": 64,\n",
    "    \"emb_dim\": 512,\n",
    "    \"dropout\": 0.1\n",
    "}\n",
    "\n",
    "att = Attention(config)\n",
    "out = att(out)\n",
    "print(out.shape)"
   ]
  },
  {
   "cell_type": "markdown",
   "metadata": {},
   "source": [
    "### Transformer"
   ]
  },
  {
   "cell_type": "code",
   "execution_count": 4,
   "metadata": {},
   "outputs": [],
   "source": [
    "class TransformerLayer(nn.Module):\n",
    "    def __init__(self, config):\n",
    "        super().__init__()\n",
    "        emb_dim = config[\"emb_dim\"]\n",
    "        ff_hidden_dim = config[\"ff_dim\"] if \"ff_dim\" in config else 4 * emb_dim\n",
    "        ff_dropout = config[\"ff_drop\"] if \"ff_drop\" in config else 0.0\n",
    "        self.att_norm = nn.LayerNorm(emb_dim)\n",
    "        self.ff_norm = nn.LayerNorm(emb_dim)\n",
    "        self.attention_block = Attention(config)\n",
    "        self.ff_block = nn.Sequential(\n",
    "            nn.Linear(emb_dim, ff_hidden_dim),\n",
    "            nn.GELU(),\n",
    "            nn.Dropout(ff_dropout),\n",
    "            nn.Linear(ff_hidden_dim, emb_dim),\n",
    "            nn.Dropout(ff_dropout)\n",
    "        )\n",
    "\n",
    "    def forward(self, x):\n",
    "        out = x\n",
    "        out = out + self.attention_block(self.att_norm(out))\n",
    "        out = out + self.ff_block(self.ff_norm(out))\n",
    "        return out\n",
    "        "
   ]
  },
  {
   "cell_type": "code",
   "execution_count": 54,
   "metadata": {},
   "outputs": [
    {
     "name": "stdout",
     "output_type": "stream",
     "text": [
      "torch.Size([1, 197, 512])\n"
     ]
    }
   ],
   "source": [
    "#expample run\n",
    "config = {\n",
    "    \"emb_dim\": 512,\n",
    "    \"ff_dim\": 2048,\n",
    "    \"ff_drop\": 0.1,\n",
    "    \"n_heads\": 8,\n",
    "    \"head_dim\": 64,\n",
    "    \"dropout\": 0.1\n",
    "}\n",
    "\n",
    "trasnformer_block = TransformerLayer(config)\n",
    "out = trasnformer_block(out)\n",
    "print(out.shape)"
   ]
  },
  {
   "cell_type": "markdown",
   "metadata": {},
   "source": [
    "### ViT"
   ]
  },
  {
   "cell_type": "code",
   "execution_count": 15,
   "metadata": {},
   "outputs": [],
   "source": [
    "class VIT(nn.Module):\n",
    "    def __init__(self, config):\n",
    "        super().__init__()\n",
    "        n_layers = config[\"n_layers\"]\n",
    "        emb_dim = config[\"emb_dim\"]\n",
    "        num_classes = config[\"num_classes\"] # number of classes\n",
    "        self.patch_embedding = PatchEmbedding(config)\n",
    "        self.transformer = nn.ModuleList([TransformerLayer(config) for _ in range(n_layers)])\n",
    "        self.norm = nn.LayerNorm(emb_dim)\n",
    "        self.fc_layer = nn.Linear(emb_dim, num_classes)\n",
    "\n",
    "    def forward(self, x):\n",
    "        out = self.patch_embedding(x)\n",
    "        for layer in self.transformer:\n",
    "            out = layer(out)\n",
    "        out = self.norm(out)\n",
    "        \n",
    "        out = self.fc_layer(out[:, 0])\n",
    "\n",
    "        #Logits, No softmax\n",
    "        return out\n"
   ]
  },
  {
   "cell_type": "code",
   "execution_count": 56,
   "metadata": {},
   "outputs": [
    {
     "name": "stdout",
     "output_type": "stream",
     "text": [
      "torch.Size([1, 1000])\n"
     ]
    }
   ],
   "source": [
    "#example run\n",
    "image = torch.randn(1, 3, 224, 224)\n",
    "config = {\n",
    "    \"image_height\": 224,\n",
    "    \"image_width\": 224,\n",
    "    \"im_channels\": 3,\n",
    "    \"emb_dim\": 512,\n",
    "    \"patch_height\": 16,\n",
    "    \"patch_width\": 16,\n",
    "    \"patch_emb_dropout\": 0.1,\n",
    "    \"n_layers\": 12,\n",
    "    \"num_dim\": 1000,\n",
    "    \"n_heads\": 8,\n",
    "    \"head_dim\": 64,\n",
    "    \"dropout\": 0.1\n",
    "}\n",
    "\n",
    "model = VIT(config)\n",
    "out = model(image)\n",
    "print(out.shape)"
   ]
  },
  {
   "cell_type": "markdown",
   "metadata": {},
   "source": [
    "#### Training"
   ]
  },
  {
   "cell_type": "code",
   "execution_count": 16,
   "metadata": {},
   "outputs": [],
   "source": [
    "import sys\n",
    "sys.path.append('../')\n",
    "import yaml\n",
    "import argparse\n",
    "import torch\n",
    "import random\n",
    "import os\n",
    "import numpy as np\n",
    "from tqdm import tqdm\n",
    "from torch.utils.data.dataloader import DataLoader\n",
    "from dataset.mnist_color_texture_dataset import MnistDataset\n",
    "from torch.optim import Adam\n",
    "from torch.optim.lr_scheduler import ReduceLROnPlateau\n",
    "\n",
    "\n",
    "device = torch.device('cuda' if torch.cuda.is_available() else 'cpu')\n",
    "\n",
    "\n",
    "def train_for_one_epoch(epoch_idx, model, mnist_loader, optimizer):\n",
    "    r\"\"\"\n",
    "    Method to run the training for one epoch.\n",
    "    :param epoch_idx: iteration number of current epoch\n",
    "    :param model: Transformer model\n",
    "    :param mnist_loader: Data loder for mnist\n",
    "    :param optimizer: optimizer to be used taken from config\n",
    "    :return:\n",
    "    \"\"\"\n",
    "    losses = []\n",
    "    criterion = torch.nn.CrossEntropyLoss()\n",
    "    for data in tqdm(mnist_loader):\n",
    "        im = data['image'].float().to(device)\n",
    "        number_cls = data['number_cls'].long().to(device)\n",
    "        optimizer.zero_grad()\n",
    "        model_output = model(im)\n",
    "        loss = criterion(model_output, number_cls)\n",
    "        losses.append(loss.item())\n",
    "        loss.backward()\n",
    "        optimizer.step()\n",
    "    print('Finished epoch: {} | Number Loss : {:.4f}'.\n",
    "          format(epoch_idx + 1,\n",
    "                 np.mean(losses)))\n",
    "    return np.mean(losses)\n",
    "\n",
    "\n",
    "def train(config_path):\n",
    "    #  Read the config file\n",
    "    ######################################\n",
    "    with open(config_path, 'r') as file:\n",
    "        try:\n",
    "            config = yaml.safe_load(file)\n",
    "        except yaml.YAMLError as exc:\n",
    "            print(exc)\n",
    "    print(config)\n",
    "    #######################################\n",
    "    \n",
    "    # Set the desired seed value\n",
    "    ######################################\n",
    "    seed = config['train_params']['seed']\n",
    "    torch.manual_seed(seed)\n",
    "    np.random.seed(seed)\n",
    "    random.seed(seed)\n",
    "    if device == 'cuda':\n",
    "        torch.cuda.manual_seed_all(seed)\n",
    "    #######################################\n",
    "    \n",
    "    # Create the model and dataset\n",
    "    model = VIT(config['model_params']).to(device)\n",
    "    mnist = MnistDataset('train', config['dataset_params'],\n",
    "                         im_h=config['model_params']['image_height'],\n",
    "                         im_w=config['model_params']['image_width'])\n",
    "    mnist_loader = DataLoader(mnist, batch_size=config['train_params']['batch_size'], shuffle=True, num_workers=4)\n",
    "    num_epochs = config['train_params']['epochs']\n",
    "    optimizer = Adam(model.parameters(), lr=config['train_params']['lr'])\n",
    "    scheduler = ReduceLROnPlateau(optimizer, factor=0.5, patience=2)\n",
    "    \n",
    "    # Create output directories\n",
    "    if not os.path.exists(config['train_params']['task_name']):\n",
    "        os.mkdir(config['train_params']['task_name'])\n",
    "    \n",
    "    # Load checkpoint if found\n",
    "    if os.path.exists(os.path.join(config['train_params']['task_name'],\n",
    "                                   config['train_params']['ckpt_name'])):\n",
    "        print('Loading checkpoint')\n",
    "        model.load_state_dict(torch.load(os.path.join(config['train_params']['task_name'],\n",
    "                                                      config['train_params']['ckpt_name']), map_location=device))\n",
    "    best_loss = np.inf\n",
    "    \n",
    "    for epoch_idx in range(num_epochs):\n",
    "        mean_loss = train_for_one_epoch(epoch_idx, model, mnist_loader, optimizer)\n",
    "        scheduler.step(mean_loss)\n",
    "        # Simply update checkpoint if found better version\n",
    "        if mean_loss < best_loss:\n",
    "            print('Improved Loss to {:.4f} .... Saving Model'.format(mean_loss))\n",
    "            torch.save(model.state_dict(), os.path.join(config['train_params']['task_name'],\n",
    "                                                        config['train_params']['ckpt_name']))\n",
    "            best_loss = mean_loss\n",
    "        else:\n",
    "            print('No Loss Improvement')\n",
    "   "
   ]
  },
  {
   "cell_type": "code",
   "execution_count": 22,
   "metadata": {},
   "outputs": [
    {
     "name": "stdout",
     "output_type": "stream",
     "text": [
      "{'dataset_params': {'root_dir': '../data'}, 'model_params': {'n_heads': 8, 'head_dim': 64, 'emb_dim': 128, 'attn_drop': 0.1, 'ff_dim': 256, 'ff_drop': 0.1, 'n_layers': 6, 'bg_classes': 44, 'num_classes': 10, 'image_height': 224, 'image_width': 224, 'patch_height': 16, 'patch_width': 16, 'patch_emb_drop': 0.1, 'im_channels': 3}, 'train_params': {'task_name': 'default', 'batch_size': 64, 'epochs': 100, 'lr': 0.001, 'seed': 1111, 'ckpt_name': 'vit_ckpt.pth'}}\n"
     ]
    },
    {
     "name": "stderr",
     "output_type": "stream",
     "text": [
      "100%|██████████| 938/938 [01:16<00:00, 12.21it/s]\n"
     ]
    },
    {
     "name": "stdout",
     "output_type": "stream",
     "text": [
      "Finished epoch: 1 | Number Loss : 0.9568\n",
      "Improved Loss to 0.9568 .... Saving Model\n"
     ]
    },
    {
     "name": "stderr",
     "output_type": "stream",
     "text": [
      "100%|██████████| 938/938 [01:18<00:00, 11.93it/s]\n"
     ]
    },
    {
     "name": "stdout",
     "output_type": "stream",
     "text": [
      "Finished epoch: 2 | Number Loss : 0.3287\n",
      "Improved Loss to 0.3287 .... Saving Model\n"
     ]
    },
    {
     "name": "stderr",
     "output_type": "stream",
     "text": [
      "100%|██████████| 938/938 [01:18<00:00, 11.91it/s]\n"
     ]
    },
    {
     "name": "stdout",
     "output_type": "stream",
     "text": [
      "Finished epoch: 3 | Number Loss : 0.2463\n",
      "Improved Loss to 0.2463 .... Saving Model\n"
     ]
    },
    {
     "name": "stderr",
     "output_type": "stream",
     "text": [
      "100%|██████████| 938/938 [01:18<00:00, 11.94it/s]\n"
     ]
    },
    {
     "name": "stdout",
     "output_type": "stream",
     "text": [
      "Finished epoch: 4 | Number Loss : 0.2042\n",
      "Improved Loss to 0.2042 .... Saving Model\n"
     ]
    },
    {
     "name": "stderr",
     "output_type": "stream",
     "text": [
      "100%|██████████| 938/938 [01:18<00:00, 11.93it/s]\n"
     ]
    },
    {
     "name": "stdout",
     "output_type": "stream",
     "text": [
      "Finished epoch: 5 | Number Loss : 0.1814\n",
      "Improved Loss to 0.1814 .... Saving Model\n"
     ]
    },
    {
     "name": "stderr",
     "output_type": "stream",
     "text": [
      "100%|██████████| 938/938 [01:18<00:00, 11.91it/s]\n"
     ]
    },
    {
     "name": "stdout",
     "output_type": "stream",
     "text": [
      "Finished epoch: 6 | Number Loss : 0.1580\n",
      "Improved Loss to 0.1580 .... Saving Model\n"
     ]
    },
    {
     "name": "stderr",
     "output_type": "stream",
     "text": [
      "100%|██████████| 938/938 [01:19<00:00, 11.84it/s]\n"
     ]
    },
    {
     "name": "stdout",
     "output_type": "stream",
     "text": [
      "Finished epoch: 7 | Number Loss : 0.1384\n",
      "Improved Loss to 0.1384 .... Saving Model\n"
     ]
    },
    {
     "name": "stderr",
     "output_type": "stream",
     "text": [
      "100%|██████████| 938/938 [01:18<00:00, 11.88it/s]\n"
     ]
    },
    {
     "name": "stdout",
     "output_type": "stream",
     "text": [
      "Finished epoch: 8 | Number Loss : 0.1328\n",
      "Improved Loss to 0.1328 .... Saving Model\n"
     ]
    },
    {
     "name": "stderr",
     "output_type": "stream",
     "text": [
      "100%|██████████| 938/938 [01:19<00:00, 11.84it/s]\n"
     ]
    },
    {
     "name": "stdout",
     "output_type": "stream",
     "text": [
      "Finished epoch: 9 | Number Loss : 0.1245\n",
      "Improved Loss to 0.1245 .... Saving Model\n"
     ]
    },
    {
     "name": "stderr",
     "output_type": "stream",
     "text": [
      "100%|██████████| 938/938 [01:19<00:00, 11.86it/s]\n"
     ]
    },
    {
     "name": "stdout",
     "output_type": "stream",
     "text": [
      "Finished epoch: 10 | Number Loss : 0.1116\n",
      "Improved Loss to 0.1116 .... Saving Model\n"
     ]
    },
    {
     "name": "stderr",
     "output_type": "stream",
     "text": [
      "100%|██████████| 938/938 [01:19<00:00, 11.86it/s]\n"
     ]
    },
    {
     "name": "stdout",
     "output_type": "stream",
     "text": [
      "Finished epoch: 11 | Number Loss : 0.1056\n",
      "Improved Loss to 0.1056 .... Saving Model\n"
     ]
    },
    {
     "name": "stderr",
     "output_type": "stream",
     "text": [
      "100%|██████████| 938/938 [01:19<00:00, 11.86it/s]\n"
     ]
    },
    {
     "name": "stdout",
     "output_type": "stream",
     "text": [
      "Finished epoch: 12 | Number Loss : 0.1001\n",
      "Improved Loss to 0.1001 .... Saving Model\n"
     ]
    },
    {
     "name": "stderr",
     "output_type": "stream",
     "text": [
      "100%|██████████| 938/938 [01:19<00:00, 11.85it/s]\n"
     ]
    },
    {
     "name": "stdout",
     "output_type": "stream",
     "text": [
      "Finished epoch: 13 | Number Loss : 0.0908\n",
      "Improved Loss to 0.0908 .... Saving Model\n"
     ]
    },
    {
     "name": "stderr",
     "output_type": "stream",
     "text": [
      "100%|██████████| 938/938 [01:18<00:00, 11.90it/s]\n"
     ]
    },
    {
     "name": "stdout",
     "output_type": "stream",
     "text": [
      "Finished epoch: 14 | Number Loss : 0.0837\n",
      "Improved Loss to 0.0837 .... Saving Model\n"
     ]
    },
    {
     "name": "stderr",
     "output_type": "stream",
     "text": [
      "100%|██████████| 938/938 [01:18<00:00, 11.89it/s]\n"
     ]
    },
    {
     "name": "stdout",
     "output_type": "stream",
     "text": [
      "Finished epoch: 15 | Number Loss : 0.0834\n",
      "Improved Loss to 0.0834 .... Saving Model\n"
     ]
    },
    {
     "name": "stderr",
     "output_type": "stream",
     "text": [
      "100%|██████████| 938/938 [01:19<00:00, 11.78it/s]\n"
     ]
    },
    {
     "name": "stdout",
     "output_type": "stream",
     "text": [
      "Finished epoch: 16 | Number Loss : 0.0772\n",
      "Improved Loss to 0.0772 .... Saving Model\n"
     ]
    },
    {
     "name": "stderr",
     "output_type": "stream",
     "text": [
      "100%|██████████| 938/938 [01:19<00:00, 11.85it/s]\n"
     ]
    },
    {
     "name": "stdout",
     "output_type": "stream",
     "text": [
      "Finished epoch: 17 | Number Loss : 0.0730\n",
      "Improved Loss to 0.0730 .... Saving Model\n"
     ]
    },
    {
     "name": "stderr",
     "output_type": "stream",
     "text": [
      "100%|██████████| 938/938 [01:19<00:00, 11.82it/s]\n"
     ]
    },
    {
     "name": "stdout",
     "output_type": "stream",
     "text": [
      "Finished epoch: 18 | Number Loss : 0.0715\n",
      "Improved Loss to 0.0715 .... Saving Model\n"
     ]
    },
    {
     "name": "stderr",
     "output_type": "stream",
     "text": [
      "100%|██████████| 938/938 [01:19<00:00, 11.86it/s]\n"
     ]
    },
    {
     "name": "stdout",
     "output_type": "stream",
     "text": [
      "Finished epoch: 19 | Number Loss : 0.0717\n",
      "No Loss Improvement\n"
     ]
    },
    {
     "name": "stderr",
     "output_type": "stream",
     "text": [
      "100%|██████████| 938/938 [01:19<00:00, 11.83it/s]\n"
     ]
    },
    {
     "name": "stdout",
     "output_type": "stream",
     "text": [
      "Finished epoch: 20 | Number Loss : 0.0645\n",
      "Improved Loss to 0.0645 .... Saving Model\n"
     ]
    },
    {
     "name": "stderr",
     "output_type": "stream",
     "text": [
      "100%|██████████| 938/938 [01:19<00:00, 11.82it/s]\n"
     ]
    },
    {
     "name": "stdout",
     "output_type": "stream",
     "text": [
      "Finished epoch: 21 | Number Loss : 0.0600\n",
      "Improved Loss to 0.0600 .... Saving Model\n"
     ]
    },
    {
     "name": "stderr",
     "output_type": "stream",
     "text": [
      "100%|██████████| 938/938 [01:18<00:00, 11.89it/s]\n"
     ]
    },
    {
     "name": "stdout",
     "output_type": "stream",
     "text": [
      "Finished epoch: 22 | Number Loss : 0.0556\n",
      "Improved Loss to 0.0556 .... Saving Model\n"
     ]
    },
    {
     "name": "stderr",
     "output_type": "stream",
     "text": [
      "100%|██████████| 938/938 [01:19<00:00, 11.85it/s]\n"
     ]
    },
    {
     "name": "stdout",
     "output_type": "stream",
     "text": [
      "Finished epoch: 23 | Number Loss : 0.0577\n",
      "No Loss Improvement\n"
     ]
    },
    {
     "name": "stderr",
     "output_type": "stream",
     "text": [
      "100%|██████████| 938/938 [01:19<00:00, 11.84it/s]\n"
     ]
    },
    {
     "name": "stdout",
     "output_type": "stream",
     "text": [
      "Finished epoch: 24 | Number Loss : 0.0507\n",
      "Improved Loss to 0.0507 .... Saving Model\n"
     ]
    },
    {
     "name": "stderr",
     "output_type": "stream",
     "text": [
      "100%|██████████| 938/938 [01:19<00:00, 11.87it/s]\n"
     ]
    },
    {
     "name": "stdout",
     "output_type": "stream",
     "text": [
      "Finished epoch: 25 | Number Loss : 0.0484\n",
      "Improved Loss to 0.0484 .... Saving Model\n"
     ]
    },
    {
     "name": "stderr",
     "output_type": "stream",
     "text": [
      "100%|██████████| 938/938 [01:19<00:00, 11.80it/s]\n"
     ]
    },
    {
     "name": "stdout",
     "output_type": "stream",
     "text": [
      "Finished epoch: 26 | Number Loss : 0.0467\n",
      "Improved Loss to 0.0467 .... Saving Model\n"
     ]
    },
    {
     "name": "stderr",
     "output_type": "stream",
     "text": [
      "100%|██████████| 938/938 [01:18<00:00, 11.92it/s]\n"
     ]
    },
    {
     "name": "stdout",
     "output_type": "stream",
     "text": [
      "Finished epoch: 27 | Number Loss : 0.0451\n",
      "Improved Loss to 0.0451 .... Saving Model\n"
     ]
    },
    {
     "name": "stderr",
     "output_type": "stream",
     "text": [
      "100%|██████████| 938/938 [01:18<00:00, 11.92it/s]\n"
     ]
    },
    {
     "name": "stdout",
     "output_type": "stream",
     "text": [
      "Finished epoch: 28 | Number Loss : 0.0455\n",
      "No Loss Improvement\n"
     ]
    },
    {
     "name": "stderr",
     "output_type": "stream",
     "text": [
      "100%|██████████| 938/938 [01:19<00:00, 11.84it/s]\n"
     ]
    },
    {
     "name": "stdout",
     "output_type": "stream",
     "text": [
      "Finished epoch: 29 | Number Loss : 0.0397\n",
      "Improved Loss to 0.0397 .... Saving Model\n"
     ]
    },
    {
     "name": "stderr",
     "output_type": "stream",
     "text": [
      "100%|██████████| 938/938 [01:18<00:00, 11.88it/s]\n"
     ]
    },
    {
     "name": "stdout",
     "output_type": "stream",
     "text": [
      "Finished epoch: 30 | Number Loss : 0.0395\n",
      "Improved Loss to 0.0395 .... Saving Model\n"
     ]
    },
    {
     "name": "stderr",
     "output_type": "stream",
     "text": [
      "100%|██████████| 938/938 [01:18<00:00, 11.91it/s]\n"
     ]
    },
    {
     "name": "stdout",
     "output_type": "stream",
     "text": [
      "Finished epoch: 31 | Number Loss : 0.0395\n",
      "Improved Loss to 0.0395 .... Saving Model\n"
     ]
    },
    {
     "name": "stderr",
     "output_type": "stream",
     "text": [
      "100%|██████████| 938/938 [01:18<00:00, 11.91it/s]\n"
     ]
    },
    {
     "name": "stdout",
     "output_type": "stream",
     "text": [
      "Finished epoch: 32 | Number Loss : 0.0353\n",
      "Improved Loss to 0.0353 .... Saving Model\n"
     ]
    },
    {
     "name": "stderr",
     "output_type": "stream",
     "text": [
      "100%|██████████| 938/938 [01:19<00:00, 11.86it/s]\n"
     ]
    },
    {
     "name": "stdout",
     "output_type": "stream",
     "text": [
      "Finished epoch: 33 | Number Loss : 0.0361\n",
      "No Loss Improvement\n"
     ]
    },
    {
     "name": "stderr",
     "output_type": "stream",
     "text": [
      "100%|██████████| 938/938 [01:18<00:00, 11.90it/s]\n"
     ]
    },
    {
     "name": "stdout",
     "output_type": "stream",
     "text": [
      "Finished epoch: 34 | Number Loss : 0.0352\n",
      "Improved Loss to 0.0352 .... Saving Model\n"
     ]
    },
    {
     "name": "stderr",
     "output_type": "stream",
     "text": [
      "100%|██████████| 938/938 [01:19<00:00, 11.85it/s]\n"
     ]
    },
    {
     "name": "stdout",
     "output_type": "stream",
     "text": [
      "Finished epoch: 35 | Number Loss : 0.0338\n",
      "Improved Loss to 0.0338 .... Saving Model\n"
     ]
    },
    {
     "name": "stderr",
     "output_type": "stream",
     "text": [
      "100%|██████████| 938/938 [01:18<00:00, 11.93it/s]\n"
     ]
    },
    {
     "name": "stdout",
     "output_type": "stream",
     "text": [
      "Finished epoch: 36 | Number Loss : 0.0341\n",
      "No Loss Improvement\n"
     ]
    },
    {
     "name": "stderr",
     "output_type": "stream",
     "text": [
      "100%|██████████| 938/938 [01:19<00:00, 11.84it/s]\n"
     ]
    },
    {
     "name": "stdout",
     "output_type": "stream",
     "text": [
      "Finished epoch: 37 | Number Loss : 0.0285\n",
      "Improved Loss to 0.0285 .... Saving Model\n"
     ]
    },
    {
     "name": "stderr",
     "output_type": "stream",
     "text": [
      "100%|██████████| 938/938 [01:19<00:00, 11.79it/s]\n"
     ]
    },
    {
     "name": "stdout",
     "output_type": "stream",
     "text": [
      "Finished epoch: 38 | Number Loss : 0.0307\n",
      "No Loss Improvement\n"
     ]
    },
    {
     "name": "stderr",
     "output_type": "stream",
     "text": [
      "100%|██████████| 938/938 [01:19<00:00, 11.79it/s]\n"
     ]
    },
    {
     "name": "stdout",
     "output_type": "stream",
     "text": [
      "Finished epoch: 39 | Number Loss : 0.0318\n",
      "No Loss Improvement\n"
     ]
    },
    {
     "name": "stderr",
     "output_type": "stream",
     "text": [
      "100%|██████████| 938/938 [01:19<00:00, 11.86it/s]\n"
     ]
    },
    {
     "name": "stdout",
     "output_type": "stream",
     "text": [
      "Finished epoch: 40 | Number Loss : 0.0249\n",
      "Improved Loss to 0.0249 .... Saving Model\n"
     ]
    },
    {
     "name": "stderr",
     "output_type": "stream",
     "text": [
      "100%|██████████| 938/938 [01:19<00:00, 11.84it/s]\n"
     ]
    },
    {
     "name": "stdout",
     "output_type": "stream",
     "text": [
      "Finished epoch: 41 | Number Loss : 0.0297\n",
      "No Loss Improvement\n"
     ]
    },
    {
     "name": "stderr",
     "output_type": "stream",
     "text": [
      "100%|██████████| 938/938 [01:19<00:00, 11.86it/s]\n"
     ]
    },
    {
     "name": "stdout",
     "output_type": "stream",
     "text": [
      "Finished epoch: 42 | Number Loss : 0.0271\n",
      "No Loss Improvement\n"
     ]
    },
    {
     "name": "stderr",
     "output_type": "stream",
     "text": [
      "100%|██████████| 938/938 [01:18<00:00, 11.88it/s]\n"
     ]
    },
    {
     "name": "stdout",
     "output_type": "stream",
     "text": [
      "Finished epoch: 43 | Number Loss : 0.0245\n",
      "Improved Loss to 0.0245 .... Saving Model\n"
     ]
    },
    {
     "name": "stderr",
     "output_type": "stream",
     "text": [
      "100%|██████████| 938/938 [01:19<00:00, 11.87it/s]\n"
     ]
    },
    {
     "name": "stdout",
     "output_type": "stream",
     "text": [
      "Finished epoch: 44 | Number Loss : 0.0268\n",
      "No Loss Improvement\n"
     ]
    },
    {
     "name": "stderr",
     "output_type": "stream",
     "text": [
      "100%|██████████| 938/938 [01:17<00:00, 12.03it/s]\n"
     ]
    },
    {
     "name": "stdout",
     "output_type": "stream",
     "text": [
      "Finished epoch: 45 | Number Loss : 0.0226\n",
      "Improved Loss to 0.0226 .... Saving Model\n"
     ]
    },
    {
     "name": "stderr",
     "output_type": "stream",
     "text": [
      "100%|██████████| 938/938 [01:16<00:00, 12.22it/s]\n"
     ]
    },
    {
     "name": "stdout",
     "output_type": "stream",
     "text": [
      "Finished epoch: 46 | Number Loss : 0.0239\n",
      "No Loss Improvement\n"
     ]
    },
    {
     "name": "stderr",
     "output_type": "stream",
     "text": [
      "100%|██████████| 938/938 [01:17<00:00, 12.11it/s]\n"
     ]
    },
    {
     "name": "stdout",
     "output_type": "stream",
     "text": [
      "Finished epoch: 47 | Number Loss : 0.0222\n",
      "Improved Loss to 0.0222 .... Saving Model\n"
     ]
    },
    {
     "name": "stderr",
     "output_type": "stream",
     "text": [
      "100%|██████████| 938/938 [01:16<00:00, 12.23it/s]\n"
     ]
    },
    {
     "name": "stdout",
     "output_type": "stream",
     "text": [
      "Finished epoch: 48 | Number Loss : 0.0219\n",
      "Improved Loss to 0.0219 .... Saving Model\n"
     ]
    },
    {
     "name": "stderr",
     "output_type": "stream",
     "text": [
      "100%|██████████| 938/938 [01:16<00:00, 12.26it/s]\n"
     ]
    },
    {
     "name": "stdout",
     "output_type": "stream",
     "text": [
      "Finished epoch: 49 | Number Loss : 0.0237\n",
      "No Loss Improvement\n"
     ]
    },
    {
     "name": "stderr",
     "output_type": "stream",
     "text": [
      "100%|██████████| 938/938 [01:17<00:00, 12.17it/s]\n"
     ]
    },
    {
     "name": "stdout",
     "output_type": "stream",
     "text": [
      "Finished epoch: 50 | Number Loss : 0.0209\n",
      "Improved Loss to 0.0209 .... Saving Model\n"
     ]
    },
    {
     "name": "stderr",
     "output_type": "stream",
     "text": [
      "100%|██████████| 938/938 [01:16<00:00, 12.24it/s]\n"
     ]
    },
    {
     "name": "stdout",
     "output_type": "stream",
     "text": [
      "Finished epoch: 51 | Number Loss : 0.0189\n",
      "Improved Loss to 0.0189 .... Saving Model\n"
     ]
    },
    {
     "name": "stderr",
     "output_type": "stream",
     "text": [
      "100%|██████████| 938/938 [01:16<00:00, 12.25it/s]\n"
     ]
    },
    {
     "name": "stdout",
     "output_type": "stream",
     "text": [
      "Finished epoch: 52 | Number Loss : 0.0239\n",
      "No Loss Improvement\n"
     ]
    },
    {
     "name": "stderr",
     "output_type": "stream",
     "text": [
      "100%|██████████| 938/938 [01:16<00:00, 12.24it/s]\n"
     ]
    },
    {
     "name": "stdout",
     "output_type": "stream",
     "text": [
      "Finished epoch: 53 | Number Loss : 0.0215\n",
      "No Loss Improvement\n"
     ]
    },
    {
     "name": "stderr",
     "output_type": "stream",
     "text": [
      "100%|██████████| 938/938 [01:16<00:00, 12.22it/s]\n"
     ]
    },
    {
     "name": "stdout",
     "output_type": "stream",
     "text": [
      "Finished epoch: 54 | Number Loss : 0.0189\n",
      "Improved Loss to 0.0189 .... Saving Model\n"
     ]
    },
    {
     "name": "stderr",
     "output_type": "stream",
     "text": [
      "100%|██████████| 938/938 [01:16<00:00, 12.26it/s]\n"
     ]
    },
    {
     "name": "stdout",
     "output_type": "stream",
     "text": [
      "Finished epoch: 55 | Number Loss : 0.0189\n",
      "No Loss Improvement\n"
     ]
    },
    {
     "name": "stderr",
     "output_type": "stream",
     "text": [
      "100%|██████████| 938/938 [01:16<00:00, 12.29it/s]\n"
     ]
    },
    {
     "name": "stdout",
     "output_type": "stream",
     "text": [
      "Finished epoch: 56 | Number Loss : 0.0182\n",
      "Improved Loss to 0.0182 .... Saving Model\n"
     ]
    },
    {
     "name": "stderr",
     "output_type": "stream",
     "text": [
      "100%|██████████| 938/938 [01:16<00:00, 12.20it/s]\n"
     ]
    },
    {
     "name": "stdout",
     "output_type": "stream",
     "text": [
      "Finished epoch: 57 | Number Loss : 0.0190\n",
      "No Loss Improvement\n"
     ]
    },
    {
     "name": "stderr",
     "output_type": "stream",
     "text": [
      "100%|██████████| 938/938 [01:16<00:00, 12.21it/s]\n"
     ]
    },
    {
     "name": "stdout",
     "output_type": "stream",
     "text": [
      "Finished epoch: 58 | Number Loss : 0.0200\n",
      "No Loss Improvement\n"
     ]
    },
    {
     "name": "stderr",
     "output_type": "stream",
     "text": [
      "100%|██████████| 938/938 [01:17<00:00, 12.18it/s]\n"
     ]
    },
    {
     "name": "stdout",
     "output_type": "stream",
     "text": [
      "Finished epoch: 59 | Number Loss : 0.0162\n",
      "Improved Loss to 0.0162 .... Saving Model\n"
     ]
    },
    {
     "name": "stderr",
     "output_type": "stream",
     "text": [
      "100%|██████████| 938/938 [01:16<00:00, 12.25it/s]\n"
     ]
    },
    {
     "name": "stdout",
     "output_type": "stream",
     "text": [
      "Finished epoch: 60 | Number Loss : 0.0168\n",
      "No Loss Improvement\n"
     ]
    },
    {
     "name": "stderr",
     "output_type": "stream",
     "text": [
      "100%|██████████| 938/938 [01:16<00:00, 12.19it/s]\n"
     ]
    },
    {
     "name": "stdout",
     "output_type": "stream",
     "text": [
      "Finished epoch: 61 | Number Loss : 0.0150\n",
      "Improved Loss to 0.0150 .... Saving Model\n"
     ]
    },
    {
     "name": "stderr",
     "output_type": "stream",
     "text": [
      "100%|██████████| 938/938 [01:16<00:00, 12.21it/s]\n"
     ]
    },
    {
     "name": "stdout",
     "output_type": "stream",
     "text": [
      "Finished epoch: 62 | Number Loss : 0.0177\n",
      "No Loss Improvement\n"
     ]
    },
    {
     "name": "stderr",
     "output_type": "stream",
     "text": [
      "100%|██████████| 938/938 [01:16<00:00, 12.19it/s]\n"
     ]
    },
    {
     "name": "stdout",
     "output_type": "stream",
     "text": [
      "Finished epoch: 63 | Number Loss : 0.0173\n",
      "No Loss Improvement\n"
     ]
    },
    {
     "name": "stderr",
     "output_type": "stream",
     "text": [
      "100%|██████████| 938/938 [01:16<00:00, 12.22it/s]\n"
     ]
    },
    {
     "name": "stdout",
     "output_type": "stream",
     "text": [
      "Finished epoch: 64 | Number Loss : 0.0163\n",
      "No Loss Improvement\n"
     ]
    },
    {
     "name": "stderr",
     "output_type": "stream",
     "text": [
      "100%|██████████| 938/938 [01:16<00:00, 12.22it/s]\n"
     ]
    },
    {
     "name": "stdout",
     "output_type": "stream",
     "text": [
      "Finished epoch: 65 | Number Loss : 0.0081\n",
      "Improved Loss to 0.0081 .... Saving Model\n"
     ]
    },
    {
     "name": "stderr",
     "output_type": "stream",
     "text": [
      "100%|██████████| 938/938 [01:16<00:00, 12.23it/s]\n"
     ]
    },
    {
     "name": "stdout",
     "output_type": "stream",
     "text": [
      "Finished epoch: 66 | Number Loss : 0.0046\n",
      "Improved Loss to 0.0046 .... Saving Model\n"
     ]
    },
    {
     "name": "stderr",
     "output_type": "stream",
     "text": [
      "100%|██████████| 938/938 [01:16<00:00, 12.22it/s]\n"
     ]
    },
    {
     "name": "stdout",
     "output_type": "stream",
     "text": [
      "Finished epoch: 67 | Number Loss : 0.0046\n",
      "No Loss Improvement\n"
     ]
    },
    {
     "name": "stderr",
     "output_type": "stream",
     "text": [
      "100%|██████████| 938/938 [01:16<00:00, 12.19it/s]\n"
     ]
    },
    {
     "name": "stdout",
     "output_type": "stream",
     "text": [
      "Finished epoch: 68 | Number Loss : 0.0065\n",
      "No Loss Improvement\n"
     ]
    },
    {
     "name": "stderr",
     "output_type": "stream",
     "text": [
      "100%|██████████| 938/938 [01:17<00:00, 12.17it/s]\n"
     ]
    },
    {
     "name": "stdout",
     "output_type": "stream",
     "text": [
      "Finished epoch: 69 | Number Loss : 0.0050\n",
      "No Loss Improvement\n"
     ]
    },
    {
     "name": "stderr",
     "output_type": "stream",
     "text": [
      "100%|██████████| 938/938 [01:16<00:00, 12.22it/s]\n"
     ]
    },
    {
     "name": "stdout",
     "output_type": "stream",
     "text": [
      "Finished epoch: 70 | Number Loss : 0.0026\n",
      "Improved Loss to 0.0026 .... Saving Model\n"
     ]
    },
    {
     "name": "stderr",
     "output_type": "stream",
     "text": [
      "100%|██████████| 938/938 [01:17<00:00, 12.18it/s]\n"
     ]
    },
    {
     "name": "stdout",
     "output_type": "stream",
     "text": [
      "Finished epoch: 71 | Number Loss : 0.0020\n",
      "Improved Loss to 0.0020 .... Saving Model\n"
     ]
    },
    {
     "name": "stderr",
     "output_type": "stream",
     "text": [
      "100%|██████████| 938/938 [01:17<00:00, 12.17it/s]\n"
     ]
    },
    {
     "name": "stdout",
     "output_type": "stream",
     "text": [
      "Finished epoch: 72 | Number Loss : 0.0016\n",
      "Improved Loss to 0.0016 .... Saving Model\n"
     ]
    },
    {
     "name": "stderr",
     "output_type": "stream",
     "text": [
      "100%|██████████| 938/938 [01:16<00:00, 12.20it/s]\n"
     ]
    },
    {
     "name": "stdout",
     "output_type": "stream",
     "text": [
      "Finished epoch: 73 | Number Loss : 0.0017\n",
      "No Loss Improvement\n"
     ]
    },
    {
     "name": "stderr",
     "output_type": "stream",
     "text": [
      "100%|██████████| 938/938 [01:17<00:00, 12.16it/s]\n"
     ]
    },
    {
     "name": "stdout",
     "output_type": "stream",
     "text": [
      "Finished epoch: 74 | Number Loss : 0.0021\n",
      "No Loss Improvement\n"
     ]
    },
    {
     "name": "stderr",
     "output_type": "stream",
     "text": [
      "100%|██████████| 938/938 [01:16<00:00, 12.21it/s]\n"
     ]
    },
    {
     "name": "stdout",
     "output_type": "stream",
     "text": [
      "Finished epoch: 75 | Number Loss : 0.0014\n",
      "Improved Loss to 0.0014 .... Saving Model\n"
     ]
    },
    {
     "name": "stderr",
     "output_type": "stream",
     "text": [
      "100%|██████████| 938/938 [01:16<00:00, 12.20it/s]\n"
     ]
    },
    {
     "name": "stdout",
     "output_type": "stream",
     "text": [
      "Finished epoch: 76 | Number Loss : 0.0013\n",
      "Improved Loss to 0.0013 .... Saving Model\n"
     ]
    },
    {
     "name": "stderr",
     "output_type": "stream",
     "text": [
      "100%|██████████| 938/938 [01:16<00:00, 12.18it/s]\n"
     ]
    },
    {
     "name": "stdout",
     "output_type": "stream",
     "text": [
      "Finished epoch: 77 | Number Loss : 0.0023\n",
      "No Loss Improvement\n"
     ]
    },
    {
     "name": "stderr",
     "output_type": "stream",
     "text": [
      "100%|██████████| 938/938 [01:16<00:00, 12.24it/s]\n"
     ]
    },
    {
     "name": "stdout",
     "output_type": "stream",
     "text": [
      "Finished epoch: 78 | Number Loss : 0.0014\n",
      "No Loss Improvement\n"
     ]
    },
    {
     "name": "stderr",
     "output_type": "stream",
     "text": [
      "100%|██████████| 938/938 [01:16<00:00, 12.25it/s]\n"
     ]
    },
    {
     "name": "stdout",
     "output_type": "stream",
     "text": [
      "Finished epoch: 79 | Number Loss : 0.0019\n",
      "No Loss Improvement\n"
     ]
    },
    {
     "name": "stderr",
     "output_type": "stream",
     "text": [
      "100%|██████████| 938/938 [01:16<00:00, 12.22it/s]\n"
     ]
    },
    {
     "name": "stdout",
     "output_type": "stream",
     "text": [
      "Finished epoch: 80 | Number Loss : 0.0010\n",
      "Improved Loss to 0.0010 .... Saving Model\n"
     ]
    },
    {
     "name": "stderr",
     "output_type": "stream",
     "text": [
      "100%|██████████| 938/938 [01:16<00:00, 12.21it/s]\n"
     ]
    },
    {
     "name": "stdout",
     "output_type": "stream",
     "text": [
      "Finished epoch: 81 | Number Loss : 0.0007\n",
      "Improved Loss to 0.0007 .... Saving Model\n"
     ]
    },
    {
     "name": "stderr",
     "output_type": "stream",
     "text": [
      "100%|██████████| 938/938 [01:16<00:00, 12.19it/s]\n"
     ]
    },
    {
     "name": "stdout",
     "output_type": "stream",
     "text": [
      "Finished epoch: 82 | Number Loss : 0.0006\n",
      "Improved Loss to 0.0006 .... Saving Model\n"
     ]
    },
    {
     "name": "stderr",
     "output_type": "stream",
     "text": [
      "100%|██████████| 938/938 [01:16<00:00, 12.21it/s]\n"
     ]
    },
    {
     "name": "stdout",
     "output_type": "stream",
     "text": [
      "Finished epoch: 83 | Number Loss : 0.0005\n",
      "Improved Loss to 0.0005 .... Saving Model\n"
     ]
    },
    {
     "name": "stderr",
     "output_type": "stream",
     "text": [
      "100%|██████████| 938/938 [01:17<00:00, 12.18it/s]\n"
     ]
    },
    {
     "name": "stdout",
     "output_type": "stream",
     "text": [
      "Finished epoch: 84 | Number Loss : 0.0006\n",
      "No Loss Improvement\n"
     ]
    },
    {
     "name": "stderr",
     "output_type": "stream",
     "text": [
      "100%|██████████| 938/938 [01:17<00:00, 12.16it/s]\n"
     ]
    },
    {
     "name": "stdout",
     "output_type": "stream",
     "text": [
      "Finished epoch: 85 | Number Loss : 0.0005\n",
      "No Loss Improvement\n"
     ]
    },
    {
     "name": "stderr",
     "output_type": "stream",
     "text": [
      "100%|██████████| 938/938 [01:16<00:00, 12.20it/s]\n"
     ]
    },
    {
     "name": "stdout",
     "output_type": "stream",
     "text": [
      "Finished epoch: 86 | Number Loss : 0.0005\n",
      "No Loss Improvement\n"
     ]
    },
    {
     "name": "stderr",
     "output_type": "stream",
     "text": [
      "100%|██████████| 938/938 [01:16<00:00, 12.21it/s]\n"
     ]
    },
    {
     "name": "stdout",
     "output_type": "stream",
     "text": [
      "Finished epoch: 87 | Number Loss : 0.0004\n",
      "Improved Loss to 0.0004 .... Saving Model\n"
     ]
    },
    {
     "name": "stderr",
     "output_type": "stream",
     "text": [
      "100%|██████████| 938/938 [01:17<00:00, 12.18it/s]\n"
     ]
    },
    {
     "name": "stdout",
     "output_type": "stream",
     "text": [
      "Finished epoch: 88 | Number Loss : 0.0003\n",
      "Improved Loss to 0.0003 .... Saving Model\n"
     ]
    },
    {
     "name": "stderr",
     "output_type": "stream",
     "text": [
      "100%|██████████| 938/938 [01:16<00:00, 12.21it/s]\n"
     ]
    },
    {
     "name": "stdout",
     "output_type": "stream",
     "text": [
      "Finished epoch: 89 | Number Loss : 0.0002\n",
      "Improved Loss to 0.0002 .... Saving Model\n"
     ]
    },
    {
     "name": "stderr",
     "output_type": "stream",
     "text": [
      "100%|██████████| 938/938 [01:16<00:00, 12.23it/s]\n"
     ]
    },
    {
     "name": "stdout",
     "output_type": "stream",
     "text": [
      "Finished epoch: 90 | Number Loss : 0.0003\n",
      "No Loss Improvement\n"
     ]
    },
    {
     "name": "stderr",
     "output_type": "stream",
     "text": [
      "100%|██████████| 938/938 [01:16<00:00, 12.20it/s]\n"
     ]
    },
    {
     "name": "stdout",
     "output_type": "stream",
     "text": [
      "Finished epoch: 91 | Number Loss : 0.0004\n",
      "No Loss Improvement\n"
     ]
    },
    {
     "name": "stderr",
     "output_type": "stream",
     "text": [
      "100%|██████████| 938/938 [01:17<00:00, 12.18it/s]\n"
     ]
    },
    {
     "name": "stdout",
     "output_type": "stream",
     "text": [
      "Finished epoch: 92 | Number Loss : 0.0004\n",
      "No Loss Improvement\n"
     ]
    },
    {
     "name": "stderr",
     "output_type": "stream",
     "text": [
      "100%|██████████| 938/938 [01:17<00:00, 12.17it/s]\n"
     ]
    },
    {
     "name": "stdout",
     "output_type": "stream",
     "text": [
      "Finished epoch: 93 | Number Loss : 0.0004\n",
      "No Loss Improvement\n"
     ]
    },
    {
     "name": "stderr",
     "output_type": "stream",
     "text": [
      "100%|██████████| 938/938 [01:16<00:00, 12.21it/s]\n"
     ]
    },
    {
     "name": "stdout",
     "output_type": "stream",
     "text": [
      "Finished epoch: 94 | Number Loss : 0.0004\n",
      "No Loss Improvement\n"
     ]
    },
    {
     "name": "stderr",
     "output_type": "stream",
     "text": [
      "100%|██████████| 938/938 [01:17<00:00, 12.18it/s]\n"
     ]
    },
    {
     "name": "stdout",
     "output_type": "stream",
     "text": [
      "Finished epoch: 95 | Number Loss : 0.0002\n",
      "Improved Loss to 0.0002 .... Saving Model\n"
     ]
    },
    {
     "name": "stderr",
     "output_type": "stream",
     "text": [
      "100%|██████████| 938/938 [01:16<00:00, 12.19it/s]\n"
     ]
    },
    {
     "name": "stdout",
     "output_type": "stream",
     "text": [
      "Finished epoch: 96 | Number Loss : 0.0002\n",
      "No Loss Improvement\n"
     ]
    },
    {
     "name": "stderr",
     "output_type": "stream",
     "text": [
      "100%|██████████| 938/938 [01:16<00:00, 12.23it/s]\n"
     ]
    },
    {
     "name": "stdout",
     "output_type": "stream",
     "text": [
      "Finished epoch: 97 | Number Loss : 0.0002\n",
      "No Loss Improvement\n"
     ]
    },
    {
     "name": "stderr",
     "output_type": "stream",
     "text": [
      "100%|██████████| 938/938 [01:17<00:00, 12.16it/s]\n"
     ]
    },
    {
     "name": "stdout",
     "output_type": "stream",
     "text": [
      "Finished epoch: 98 | Number Loss : 0.0002\n",
      "No Loss Improvement\n"
     ]
    },
    {
     "name": "stderr",
     "output_type": "stream",
     "text": [
      "100%|██████████| 938/938 [01:16<00:00, 12.23it/s]\n"
     ]
    },
    {
     "name": "stdout",
     "output_type": "stream",
     "text": [
      "Finished epoch: 99 | Number Loss : 0.0002\n",
      "Improved Loss to 0.0002 .... Saving Model\n"
     ]
    },
    {
     "name": "stderr",
     "output_type": "stream",
     "text": [
      "100%|██████████| 938/938 [01:16<00:00, 12.20it/s]"
     ]
    },
    {
     "name": "stdout",
     "output_type": "stream",
     "text": [
      "Finished epoch: 100 | Number Loss : 0.0002\n",
      "No Loss Improvement\n"
     ]
    },
    {
     "name": "stderr",
     "output_type": "stream",
     "text": [
      "\n"
     ]
    }
   ],
   "source": [
    "config_path = \"../config/default.yaml\"\n",
    "train(config_path)"
   ]
  },
  {
   "cell_type": "code",
   "execution_count": null,
   "metadata": {},
   "outputs": [],
   "source": []
  }
 ],
 "metadata": {
  "kernelspec": {
   "display_name": "fedl",
   "language": "python",
   "name": "python3"
  },
  "language_info": {
   "codemirror_mode": {
    "name": "ipython",
    "version": 3
   },
   "file_extension": ".py",
   "mimetype": "text/x-python",
   "name": "python",
   "nbconvert_exporter": "python",
   "pygments_lexer": "ipython3",
   "version": "3.11.10"
  }
 },
 "nbformat": 4,
 "nbformat_minor": 2
}
